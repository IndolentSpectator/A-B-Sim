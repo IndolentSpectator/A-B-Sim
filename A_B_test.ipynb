{
  "nbformat": 4,
  "nbformat_minor": 0,
  "metadata": {
    "colab": {
      "provenance": []
    },
    "kernelspec": {
      "name": "python3",
      "display_name": "Python 3"
    },
    "language_info": {
      "name": "python"
    }
  },
  "cells": [
    {
      "cell_type": "code",
      "execution_count": null,
      "metadata": {
        "id": "uDBc-B8aUqtt"
      },
      "outputs": [],
      "source": [
        "import numpy as np\n",
        "import pandas as pd\n",
        "from scipy.stats import norm"
      ]
    },
    {
      "cell_type": "code",
      "source": [
        "# ----------------------- Simulating Click Data for A/B Testing -----------------------\n",
        "\n",
        "N_exp = 10000  # Number of users in the experimental group\n",
        "N_con = 10000  # Number of users in the control group"
      ],
      "metadata": {
        "id": "VQOLhK66U0BJ"
      },
      "execution_count": null,
      "outputs": []
    },
    {
      "cell_type": "code",
      "source": [
        "# Generating Click Data (Binomial Distribution)\n",
        "click_exp = pd.Series(np.random.binomial(1, 0.4, size=N_exp))  # 40% click rate in experimental group\n",
        "click_con = pd.Series(np.random.binomial(1, 0.2, size=N_con))  # 20% click rate in control group\n"
      ],
      "metadata": {
        "id": "doRftHrSVmP-"
      },
      "execution_count": null,
      "outputs": []
    },
    {
      "cell_type": "code",
      "source": [
        "# Generate Group Identifier\n",
        "exp_id = pd.Series(np.repeat(\"exp\", N_exp))\n",
        "con_id = pd.Series(np.repeat(\"con\", N_con))"
      ],
      "metadata": {
        "id": "EKvGjfEwVptG"
      },
      "execution_count": null,
      "outputs": []
    },
    {
      "cell_type": "code",
      "source": [
        "# Create DataFrames for both groups\n",
        "df_exp = pd.concat([click_exp, exp_id], axis=1)\n",
        "df_con = pd.concat([click_con, con_id], axis=1)"
      ],
      "metadata": {
        "id": "WVlPgFNsVjXA"
      },
      "execution_count": null,
      "outputs": []
    },
    {
      "cell_type": "code",
      "source": [
        "# Naming columns\n",
        "df_exp.columns = [\"click\", \"group\"]\n",
        "df_con.columns = [\"click\", \"group\"]"
      ],
      "metadata": {
        "id": "l13Z6i2bV1x1"
      },
      "execution_count": null,
      "outputs": []
    },
    {
      "cell_type": "code",
      "source": [
        "# Combine both groups into one dataset\n",
        "df_ab_test = pd.concat([df_exp, df_con], axis=0).reset_index(drop=True)"
      ],
      "metadata": {
        "id": "gB0W8XauV1sa"
      },
      "execution_count": null,
      "outputs": []
    },
    {
      "cell_type": "code",
      "source": [
        "# ----------------------- A/B Test Analysis -----------------------\n",
        "\n",
        "# Summarize clicks by group\n",
        "X_con = df_ab_test.groupby(\"group\")[\"click\"].sum().loc[\"con\"]\n",
        "X_exp = df_ab_test.groupby(\"group\")[\"click\"].sum().loc[\"exp\"]\n",
        "\n",
        "print(\"Number of Clicks in Control: \", X_con)\n",
        "print(\"Number of Clicks in Experimental: \", X_exp)"
      ],
      "metadata": {
        "colab": {
          "base_uri": "https://localhost:8080/"
        },
        "id": "28TcgwOaV1qB",
        "outputId": "465f5a4c-1a96-467f-be66-8710c4804bf3"
      },
      "execution_count": null,
      "outputs": [
        {
          "output_type": "stream",
          "name": "stdout",
          "text": [
            "Number of Clicks in Control:  1987\n",
            "Number of Clicks in Experimental:  4009\n"
          ]
        }
      ]
    },
    {
      "cell_type": "code",
      "source": [
        "# Compute Click-through Rates (CTR)\n",
        "p_con_hat = X_con / N_con\n",
        "p_exp_hat = X_exp / N_exp\n",
        "\n",
        "print(\"Click Probability in Control Group:\", p_con_hat)\n",
        "print(\"Click Probability in Experimental Group:\", p_exp_hat)\n"
      ],
      "metadata": {
        "colab": {
          "base_uri": "https://localhost:8080/"
        },
        "id": "BSJgMli5V1n9",
        "outputId": "896fbe50-b78e-4649-c7fa-5d680f600868"
      },
      "execution_count": null,
      "outputs": [
        {
          "output_type": "stream",
          "name": "stdout",
          "text": [
            "Click Probability in Control Group: 0.1987\n",
            "Click Probability in Experimental Group: 0.4009\n"
          ]
        }
      ]
    },
    {
      "cell_type": "code",
      "source": [
        "# Compute Pooled Proportion\n",
        "p_pooled_hat = (X_con + X_exp) / (N_con + N_exp)\n",
        "print(\"p^_pooled is: \", p_pooled_hat)\n"
      ],
      "metadata": {
        "colab": {
          "base_uri": "https://localhost:8080/"
        },
        "id": "GYPLYMEAWuWI",
        "outputId": "2750d234-9663-4201-f71e-db125cb7ffa0"
      },
      "execution_count": null,
      "outputs": [
        {
          "output_type": "stream",
          "name": "stdout",
          "text": [
            "p^_pooled is:  0.2998\n"
          ]
        }
      ]
    },
    {
      "cell_type": "code",
      "source": [
        "# Compute Pooled Variance\n",
        "pooled_variance = p_pooled_hat * (1 - p_pooled_hat) * (1/N_con + 1/N_exp)\n",
        "print(\"Pooled Variance is: \", pooled_variance)"
      ],
      "metadata": {
        "colab": {
          "base_uri": "https://localhost:8080/"
        },
        "id": "c5wjDmx8WwMH",
        "outputId": "a90c32a6-d60f-494a-a353-e0b248fe5a24"
      },
      "execution_count": null,
      "outputs": [
        {
          "output_type": "stream",
          "name": "stdout",
          "text": [
            "Pooled Variance is:  4.1983992e-05\n"
          ]
        }
      ]
    },
    {
      "cell_type": "code",
      "source": [
        "# Compute Standard Error (SE)\n",
        "SE = np.sqrt(pooled_variance)\n",
        "print(\"Standard Error is: \", SE)"
      ],
      "metadata": {
        "colab": {
          "base_uri": "https://localhost:8080/"
        },
        "id": "KPFGBl1HW0NM",
        "outputId": "10539c6a-367d-44d7-a592-67fa1cc7e688"
      },
      "execution_count": null,
      "outputs": [
        {
          "output_type": "stream",
          "name": "stdout",
          "text": [
            "Standard Error is:  0.006479505536690281\n"
          ]
        }
      ]
    },
    {
      "cell_type": "code",
      "source": [
        "# Compute Test Statistic (Z-score)\n",
        "Test_stat = (p_con_hat - p_exp_hat) / SE\n",
        "print(\"Test Statistic for 2-sample Z-test is:\", Test_stat)"
      ],
      "metadata": {
        "colab": {
          "base_uri": "https://localhost:8080/"
        },
        "id": "tic6oC1WW2_2",
        "outputId": "070a704b-e6f9-4b96-b3f3-cf4788439a4b"
      },
      "execution_count": null,
      "outputs": [
        {
          "output_type": "stream",
          "name": "stdout",
          "text": [
            "Test Statistic for 2-sample Z-test is: -31.206084917288823\n"
          ]
        }
      ]
    },
    {
      "cell_type": "code",
      "source": [
        "# Define significance level\n",
        "alpha = 0.05\n",
        "print(\"Alpha (significance level) is:\", alpha)"
      ],
      "metadata": {
        "colab": {
          "base_uri": "https://localhost:8080/"
        },
        "id": "Y922b-hpW5XV",
        "outputId": "e0852e86-403c-470c-9ed9-638f17f847da"
      },
      "execution_count": null,
      "outputs": [
        {
          "output_type": "stream",
          "name": "stdout",
          "text": [
            "Alpha (significance level) is: 0.05\n"
          ]
        }
      ]
    },
    {
      "cell_type": "code",
      "source": [
        "# Compute Critical Value from Standard Normal Distribution\n",
        "Z_crit = norm.ppf(1 - alpha / 2)\n",
        "print(\"Z-critical value from Standard Normal Distribution:\", Z_crit)"
      ],
      "metadata": {
        "colab": {
          "base_uri": "https://localhost:8080/"
        },
        "id": "s8Ia5wJKW7uE",
        "outputId": "c119d6ad-e63b-4574-e19c-3f284016a6f7"
      },
      "execution_count": null,
      "outputs": [
        {
          "output_type": "stream",
          "name": "stdout",
          "text": [
            "Z-critical value from Standard Normal Distribution: 1.959963984540054\n"
          ]
        }
      ]
    },
    {
      "cell_type": "code",
      "source": [
        "# Compute p-value\n",
        "p_value = 2 * norm.sf(abs(Test_stat))\n",
        "print(\"P-value of the 2-sample Z-test:\", round(p_value, 3))"
      ],
      "metadata": {
        "id": "lbfIwAEOW-NC",
        "outputId": "835eda49-31da-44a9-d922-2b9664fb3f2f",
        "colab": {
          "base_uri": "https://localhost:8080/"
        }
      },
      "execution_count": null,
      "outputs": [
        {
          "output_type": "stream",
          "name": "stdout",
          "text": [
            "P-value of the 2-sample Z-test: 0.0\n"
          ]
        }
      ]
    },
    {
      "cell_type": "code",
      "source": [
        "# Compute Confidence Interval for the difference in proportions\n",
        "CI = [round((p_exp_hat - p_con_hat) - SE * Z_crit, 3), round((p_exp_hat - p_con_hat) + SE * Z_crit, 3)]\n",
        "print(\"Confidence Interval of the 2-sample Z-test is: \", CI)\n"
      ],
      "metadata": {
        "id": "PRLjbxmaXAl9",
        "outputId": "58a58329-5c81-47fc-ca2a-221e4bb9d310",
        "colab": {
          "base_uri": "https://localhost:8080/"
        }
      },
      "execution_count": null,
      "outputs": [
        {
          "output_type": "stream",
          "name": "stdout",
          "text": [
            "Confidence Interval of the 2-sample Z-test is:  [0.19, 0.215]\n"
          ]
        }
      ]
    },
    {
      "cell_type": "code",
      "source": [
        "# Define Minimum Detectable Effect (if applicable)\n",
        "delta = 0.31  # Example threshold for practical significance\n",
        "print(\"Minimum Detectable Effect (Delta) is: \", delta)"
      ],
      "metadata": {
        "id": "DF4nXPz-XDQ1",
        "outputId": "f1a69a8f-50ac-4a30-a763-a695498f0cd7",
        "colab": {
          "base_uri": "https://localhost:8080/"
        }
      },
      "execution_count": null,
      "outputs": [
        {
          "output_type": "stream",
          "name": "stdout",
          "text": [
            "Minimum Detectable Effect (Delta) is:  0.31\n"
          ]
        }
      ]
    }
  ]
}